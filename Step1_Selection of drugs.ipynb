{
 "cells": [
  {
   "cell_type": "code",
   "execution_count": 1,
   "id": "c380dc23",
   "metadata": {},
   "outputs": [],
   "source": [
    "import pandas as pd\n"
   ]
  },
  {
   "cell_type": "code",
   "execution_count": 2,
   "id": "469aeb36",
   "metadata": {},
   "outputs": [],
   "source": [
    "Drug_data = pd.read_csv(\"../Data_resource/Drug_Response.csv\",index_col = \"Unnamed: 0\")"
   ]
  },
  {
   "cell_type": "code",
   "execution_count": 10,
   "id": "3f96fbd8",
   "metadata": {},
   "outputs": [],
   "source": [
    "selected_drugs = Drug_data.loc[Drug_data['ic50']<0.05]"
   ]
  },
  {
   "cell_type": "code",
   "execution_count": 11,
   "id": "a7e9766c",
   "metadata": {},
   "outputs": [
    {
     "data": {
      "text/plain": [
       "121"
      ]
     },
     "execution_count": 11,
     "metadata": {},
     "output_type": "execute_result"
    }
   ],
   "source": [
    "len(set(selected_drugs['inhibitor']))"
   ]
  },
  {
   "cell_type": "code",
   "execution_count": 14,
   "id": "5171bdb9",
   "metadata": {},
   "outputs": [],
   "source": [
    "dic_sensitive_samples = {}"
   ]
  },
  {
   "cell_type": "code",
   "execution_count": 15,
   "id": "baddeaa5",
   "metadata": {},
   "outputs": [],
   "source": [
    "for i in range(0,selected_drugs.shape[0]):\n",
    "    if selected_drugs.iloc[i,0] not in dic_sensitive_samples:\n",
    "        dic_sensitive_samples[selected_drugs.iloc[i,0]] = [selected_drugs.iloc[i,1]]\n",
    "    else:\n",
    "        dic_sensitive_samples[selected_drugs.iloc[i,0]].append(selected_drugs.iloc[i,1])"
   ]
  },
  {
   "cell_type": "code",
   "execution_count": 17,
   "id": "84f4ac0d",
   "metadata": {},
   "outputs": [],
   "source": [
    "drug_list_sele = []\n",
    "number_of_sensitive = []\n",
    "for drug in dic_sensitive_samples:\n",
    "    if len(dic_sensitive_samples[drug]) > 5:\n",
    "        drug_list_sele.append(drug)\n",
    "        number_of_sensitive.append(len(dic_sensitive_samples[drug]))\n",
    "\n",
    "result_df =pd.DataFrame({'Drug':drug_list_sele, 'Number_of_effective_cases': number_of_sensitive})"
   ]
  },
  {
   "cell_type": "code",
   "execution_count": 23,
   "id": "1ddece07",
   "metadata": {},
   "outputs": [],
   "source": [
    "result_df.sort_values(by = ['Number_of_effective_cases'], ascending = False).to_csv(\"../Manuscript/Supplemental_Tables/Supplemental_1_Number_of_effective_cases.csv\", index = False)"
   ]
  },
  {
   "cell_type": "code",
   "execution_count": null,
   "id": "043e8b65",
   "metadata": {},
   "outputs": [],
   "source": []
  }
 ],
 "metadata": {
  "kernelspec": {
   "display_name": "Python 3 (ipykernel)",
   "language": "python",
   "name": "python3"
  },
  "language_info": {
   "codemirror_mode": {
    "name": "ipython",
    "version": 3
   },
   "file_extension": ".py",
   "mimetype": "text/x-python",
   "name": "python",
   "nbconvert_exporter": "python",
   "pygments_lexer": "ipython3",
   "version": "3.9.6"
  }
 },
 "nbformat": 4,
 "nbformat_minor": 5
}
