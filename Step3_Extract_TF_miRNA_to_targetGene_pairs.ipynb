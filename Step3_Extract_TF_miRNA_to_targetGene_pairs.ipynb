{
 "cells": [
  {
   "cell_type": "markdown",
   "id": "81768fbf",
   "metadata": {},
   "source": [
    "##### This jupyter notebooks is analyze which transcription factors or miRNAs that regulate the expression of genes using a Lasso regression model\n",
    "##### Date: Feb 22, 2023"
   ]
  },
  {
   "cell_type": "code",
   "execution_count": 7,
   "id": "48e6ad86",
   "metadata": {},
   "outputs": [],
   "source": [
    "#import libraries\n",
    "import pandas as pd\n",
    "from sklearn import linear_model \n",
    "import numpy as np"
   ]
  },
  {
   "cell_type": "code",
   "execution_count": 4,
   "id": "6956b44d",
   "metadata": {},
   "outputs": [],
   "source": [
    "GE = pd.read_csv(\"../../Data_resource/RPKM.csv\",index_col = \"Unnamed: 0\")\n",
    "GE.index = GE['Gene']"
   ]
  },
  {
   "cell_type": "code",
   "execution_count": 5,
   "id": "9054cf9e",
   "metadata": {},
   "outputs": [],
   "source": [
    "#gene id mapping\n",
    "gene_map = GE.loc[:,['Gene','Symbol']]\n",
    "dic_gene_map = {}\n",
    "for i in range(0,gene_map.shape[0]):\n",
    "    dic_gene_map[gene_map.iloc[i,0]] = gene_map.iloc[i,1]\n",
    "    dic_gene_map[gene_map.iloc[i,1]] = gene_map.iloc[i,0]\n",
    "    \n",
    "# full gene list and sample list\n",
    "gene_list = (list(GE.index))\n",
    "sample_list = list(set(GE.columns) - set(['Gene','Symbol']))\n",
    "\n",
    "# Formated input gene expression matrix\n",
    "input_data = GE.loc[list(gene_list), sample_list]"
   ]
  },
  {
   "cell_type": "code",
   "execution_count": 6,
   "id": "add42dc3",
   "metadata": {},
   "outputs": [],
   "source": [
    "def Filter_low_Expr(arr):\n",
    "    '''\n",
    "    Usage: This function is uded to filter out genes which has expression value logRPKM smaller than 0 in more than 50% of the samples.\n",
    "    Parameter: arr, expression of one gene across different samples\n",
    "    '''\n",
    "    total_len = len(arr)\n",
    "    count = 0\n",
    "    for i in arr:\n",
    "        if i > 0:\n",
    "            count = count + 1\n",
    "    if count > 0.5*total_len: #If \n",
    "        return(True)\n",
    "    else:\n",
    "        return(False)"
   ]
  },
  {
   "cell_type": "code",
   "execution_count": 8,
   "id": "4356e1cf",
   "metadata": {},
   "outputs": [],
   "source": [
    "# Filter genes and scale the data\n",
    "\n",
    "scaled_df = pd.DataFrame()\n",
    "array_list = list()\n",
    "length = input_data.shape[0]\n",
    "gene_list_remain = []\n",
    "for i in range(0,length):\n",
    "    gene = gene_list[i]\n",
    "    arr = input_data.iloc[i,:]\n",
    "    if Filter_low_Expr(arr):\n",
    "        array_mean = np.mean(arr)\n",
    "        array_std = np.std(arr)\n",
    "        array_scale = (arr - array_mean)/array_std\n",
    "        array_list.append(array_scale.values)\n",
    "        gene_list_remain.append(gene)\n",
    "#cur_df = pd.DataFrame({gene: array_scale})\n",
    "#scaled_df = pd.concat([scaled_df, cur_df], axis =1 )\n",
    "    \n",
    "scaled_df = pd.DataFrame(array_list)\n",
    "scaled_df.columns = sample_list\n",
    "scaled_df.index = gene_list_remain"
   ]
  },
  {
   "cell_type": "code",
   "execution_count": null,
   "id": "6f8e6fbe",
   "metadata": {},
   "outputs": [],
   "source": []
  },
  {
   "cell_type": "code",
   "execution_count": 10,
   "id": "282b88eb",
   "metadata": {},
   "outputs": [],
   "source": [
    "# Load the transcription factor and target gene pairs\n",
    "TFs = pd.read_csv(\"~/Documents/GitHub_project/fastqpi_BigGIM/KGs/TFs/database.csv\")"
   ]
  },
  {
   "cell_type": "code",
   "execution_count": 13,
   "id": "d8e6590b",
   "metadata": {},
   "outputs": [],
   "source": [
    "#Select TF and target genes with high or medium confidence #This might need to be revised.\n",
    "TFs_sele = TFs.loc[TFs['score'].isin(['A','B','C','D','E'])]"
   ]
  },
  {
   "cell_type": "code",
   "execution_count": 14,
   "id": "67464bfd",
   "metadata": {},
   "outputs": [],
   "source": [
    "miRNA_tar_KG = pd.read_csv(\"~/Documents/GitHub_project/fastqpi_BigGIM/KGs/miRTarBase/KG_miRNA_target_edges.csv\")\n",
    "miRNA_list = []\n",
    "for i in set(GE['Symbol']):\n",
    "    if 'MIR' in i:\n",
    "        miRNA_list.append(i)\n",
    "        "
   ]
  },
  {
   "cell_type": "markdown",
   "id": "84352818",
   "metadata": {},
   "source": [
    "### select regulators for one target gene"
   ]
  },
  {
   "cell_type": "code",
   "execution_count": 243,
   "id": "b014bcc5",
   "metadata": {},
   "outputs": [
    {
     "name": "stdout",
     "output_type": "stream",
     "text": [
      "1000\n",
      "2000\n",
      "3000\n",
      "4000\n",
      "5000\n",
      "6000\n",
      "7000\n",
      "8000\n",
      "9000\n",
      "10000\n",
      "11000\n",
      "12000\n",
      "13000\n",
      "14000\n",
      "15000\n",
      "16000\n",
      "17000\n"
     ]
    }
   ],
   "source": [
    "result_list = []\n",
    "count = 0\n",
    "new_coef = []\n",
    "\n",
    "coef_list_all = []\n",
    "target_list = []\n",
    "regulator_list = []\n",
    "\n",
    "for sele_gene in gene_list_remain:\n",
    "#for sele_gene in [dic_gene_map['BCL2']]:\n",
    "    new_coef = []\n",
    "    count = count + 1\n",
    "    if count % 1000 ==0:\n",
    "        print(count)\n",
    "    \n",
    "    #if sele_gene in set(TFs_sele['target']):\n",
    "    if sele_gene in dic_gene_map:\n",
    "        sele_TF_curr_gene = list(TFs_sele.loc[TFs_sele['target'] == dic_gene_map[sele_gene]]['TF'])\n",
    "    \n",
    "        if sele_gene in sele_TF_curr_gene:\n",
    "            sele_TF_curr_gene.remove(sele_gene)\n",
    "    else:\n",
    "        sele_TF_curr_gene = []\n",
    "        \n",
    "    sele_miRNA_curr_gene = list(miRNA_tar_KG.loc[miRNA_tar_KG['Object'] == sele_gene]['Subject'])\n",
    "\n",
    "    Potential_regulator_list = sele_TF_curr_gene + miRNA_list\n",
    "    #print(len(Potential_regulator_list))\n",
    "    \n",
    "    X_regulators_symbol = []\n",
    "    X_regulators = []\n",
    "    for i in Potential_regulator_list:\n",
    "        if i in dic_gene_map:\n",
    "            if dic_gene_map[i] in  scaled_df.index:\n",
    "                X_regulators.append(dic_gene_map[i])\n",
    "                X_regulators_symbol.append(i)\n",
    "\n",
    "    #Y_gene =dic_gene_map[sele_gene]\n",
    "    Y_gene = sele_gene\n",
    "    Y = scaled_df.loc[Y_gene,:].values\n",
    "    X = scaled_df.loc[X_regulators,:]\n",
    "    X = X.transpose()\n",
    "\n",
    "\n",
    "    linreg = linear_model.Lasso(alpha=0.1) \n",
    "    linreg.fit(X,Y)\n",
    "    y_pred = linreg.predict(X)\n",
    "\n",
    "    coef = list(linreg.coef_)\n",
    "\n",
    "    new_coef.extend(coef)\n",
    "    rss = sum((y_pred-Y)**2)\n",
    "    new_coef.extend([rss])\n",
    "    new_coef.extend([linreg.intercept_])\n",
    "    \n",
    "    gene_cur = X_regulators_symbol\n",
    "    gene_cur.append(sele_gene+\"_\"+\"RSS\")\n",
    "    gene_cur.append(sele_gene+\"_\"+\"intercept_\") \n",
    "    \n",
    "    result_cur = pd.DataFrame({\"Regulator\":X_regulators_symbol,\n",
    "                                \"coef\":new_coef,\n",
    "                               \"target_gene\":[sele_gene]*len(new_coef)})\n",
    "    result_cur = result_cur.loc[result_cur['coef']!=0]\n",
    "    regulator_list.extend(result_cur['Regulator'].values)\n",
    "    target_list.extend(result_cur['target_gene'].values)\n",
    "    coef_list_all.extend( result_cur['coef'].values)"
   ]
  },
  {
   "cell_type": "code",
   "execution_count": 245,
   "id": "db9942fa",
   "metadata": {},
   "outputs": [],
   "source": [
    "result_df = pd.DataFrame({\"Target_gene\":target_list, \"Regulator\":regulator_list, \"Coef\": coef_list_all})"
   ]
  },
  {
   "cell_type": "code",
   "execution_count": 246,
   "id": "3eb79594",
   "metadata": {},
   "outputs": [],
   "source": [
    "result_df.to_csv(\"KG_regulatory_graph.csv\")"
   ]
  },
  {
   "cell_type": "code",
   "execution_count": 248,
   "id": "6c2b33a4",
   "metadata": {},
   "outputs": [],
   "source": [
    "Symbol_list = []\n",
    "for gene in list(result_df['Target_gene']):\n",
    "    if gene in dic_gene_map:\n",
    "        Symbol_list.append(dic_gene_map[gene])\n",
    "    else:\n",
    "        Symbol_list.append(gene)\n",
    "        \n",
    "result_df['Target_symbol'] = Symbol_list\n",
    "result_df.to_csv(\"KG_regulatory_graph.csv\")"
   ]
  },
  {
   "cell_type": "markdown",
   "id": "bec16809",
   "metadata": {},
   "source": [
    "# End"
   ]
  }
 ],
 "metadata": {
  "kernelspec": {
   "display_name": "Python 3 (ipykernel)",
   "language": "python",
   "name": "python3"
  },
  "language_info": {
   "codemirror_mode": {
    "name": "ipython",
    "version": 3
   },
   "file_extension": ".py",
   "mimetype": "text/x-python",
   "name": "python",
   "nbconvert_exporter": "python",
   "pygments_lexer": "ipython3",
   "version": "3.10.0"
  }
 },
 "nbformat": 4,
 "nbformat_minor": 5
}
